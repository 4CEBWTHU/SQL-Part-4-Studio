{
    "metadata": {
        "kernelspec": {
            "name": "SQL",
            "display_name": "SQL",
            "language": "sql"
        },
        "language_info": {
            "name": "sql",
            "version": ""
        },
        "extensions": {
            "azuredatastudio": {
                "version": 1,
                "views": []
            }
        }
    },
    "nbformat_minor": 2,
    "nbformat": 4,
    "cells": [
        {
            "cell_type": "markdown",
            "source": [
                "SQL Part 4 Studio"
            ],
            "metadata": {
                "azdata_cell_guid": "3ea3f8a2-b444-4354-be8b-eebc139b3c13"
            },
            "attachments": {}
        }
    ]
}