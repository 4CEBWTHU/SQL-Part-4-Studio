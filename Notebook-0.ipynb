{
    "metadata": {
        "kernelspec": {
            "name": "SQL",
            "display_name": "SQL",
            "language": "sql"
        },
        "language_info": {
            "name": "sql",
            "version": ""
        },
        "extensions": {
            "azuredatastudio": {
                "version": 1,
                "views": []
            }
        }
    },
    "nbformat_minor": 2,
    "nbformat": 4,
    "cells": [
        {
            "cell_type": "markdown",
            "source": [
                "SQL Part 4 Studio"
            ],
            "metadata": {
                "azdata_cell_guid": "3ea3f8a2-b444-4354-be8b-eebc139b3c13"
            },
            "attachments": {}
        },
        {
            "cell_type": "code",
            "source": [
                "/*\n",
                "SELECT TOP 5 * \n",
                "FROM BooksDB.dbo.book_tags;\n",
                "-- goodreads_book_id, tag_id, count\n",
                "\n",
                "SELECT TOP 5 *\n",
                "FROM BooksDB.dbo.books;\n",
                "-- id, book_id, best_book_id, work_id, books_count, isbn, isbn13, authors, original_publication_year, original_title, title, language_code, average_rating, ratings_count, work_ratings_count, work_text_reviews_count, ratings 1-5, image and small image url\n",
                "\n",
                "SELECT TOP 5 *\n",
                "FROM BooksDB.dbo.ratings; \n",
                "-- book_id, user_id, rating\n",
                "\n",
                "SELECT TOP 5 *\n",
                "FROM BooksDB.dbo.tags;\n",
                "-- tag_id, tag_name\n",
                "\n",
                "SELECT TOP 5 *\n",
                "FROM BooksDB.dbo.to_read;\n",
                "-- user_id, book_id\n",
                "*/"
            ],
            "metadata": {
                "azdata_cell_guid": "24fd7dbd-1ed0-43d7-af32-18870ce40e7b"
            },
            "outputs": [
                {
                    "output_type": "display_data",
                    "data": {
                        "text/html": "Commands completed successfully."
                    },
                    "metadata": {}
                },
                {
                    "output_type": "display_data",
                    "data": {
                        "text/html": "Total execution time: 00:00:00.052"
                    },
                    "metadata": {}
                }
            ],
            "execution_count": 9
        },
        {
            "cell_type": "markdown",
            "source": [
                "Query ideas:\n",
                "\n",
                "- 1-2 subqueries based on customer requests\n",
                "    - Use WHERE...\\[NOT\\] IN...  at least 1x\n",
                "- UNION, INTERSECT, EXCEPT \n",
                "- Correlated Subquery"
            ],
            "metadata": {
                "azdata_cell_guid": "543756bd-245e-4238-85ac-e2d3295e53c0"
            },
            "attachments": {}
        },
        {
            "cell_type": "code",
            "source": [
                "SELECT TOP 5 b.authors, b.title\n",
                "FROM BooksDB.dbo.books AS b\n",
                "WHERE authors =\n",
                "    (SELECT b.authors\n",
                "    WHERE authors NOT LIKE '%,%')\n",
                "\n",
                "    -- returning books with single author attributions"
            ],
            "metadata": {
                "azdata_cell_guid": "46c76d2f-acbc-4fd2-9c2a-367044fda616"
            },
            "outputs": [
                {
                    "output_type": "display_data",
                    "data": {
                        "text/html": "(5 rows affected)"
                    },
                    "metadata": {}
                },
                {
                    "output_type": "display_data",
                    "data": {
                        "text/html": "Total execution time: 00:00:00.059"
                    },
                    "metadata": {}
                },
                {
                    "output_type": "execute_result",
                    "metadata": {},
                    "execution_count": 7,
                    "data": {
                        "application/vnd.dataresource+json": {
                            "schema": {
                                "fields": [
                                    {
                                        "name": "authors"
                                    },
                                    {
                                        "name": "title"
                                    }
                                ]
                            },
                            "data": [
                                {
                                    "0": "Suzanne Collins",
                                    "1": "The Hunger Games (The Hunger Games, #1)"
                                },
                                {
                                    "0": "Stephenie Meyer",
                                    "1": "Twilight (Twilight, #1)"
                                },
                                {
                                    "0": "Harper Lee",
                                    "1": "To Kill a Mockingbird"
                                },
                                {
                                    "0": "F. Scott Fitzgerald",
                                    "1": "The Great Gatsby"
                                },
                                {
                                    "0": "John Green",
                                    "1": "The Fault in Our Stars"
                                }
                            ]
                        },
                        "text/html": [
                            "<table>",
                            "<tr><th>authors</th><th>title</th></tr>",
                            "<tr><td>Suzanne Collins</td><td>The Hunger Games (The Hunger Games, #1)</td></tr>",
                            "<tr><td>Stephenie Meyer</td><td>Twilight (Twilight, #1)</td></tr>",
                            "<tr><td>Harper Lee</td><td>To Kill a Mockingbird</td></tr>",
                            "<tr><td>F. Scott Fitzgerald</td><td>The Great Gatsby</td></tr>",
                            "<tr><td>John Green</td><td>The Fault in Our Stars</td></tr>",
                            "</table>"
                        ]
                    }
                }
            ],
            "execution_count": 7
        },
        {
            "cell_type": "code",
            "source": [
                "-- want to select books that have an average of 4.2 rating to select for the window display with tags about the beach\n",
                "/*\n",
                "SELECT b.title, b. authors, b.average_rating\n",
                "FROM BooksDB.dbo.books AS b\n",
                "WHERE b.average_rating >= 4.2\n",
                "EXCEPT\n",
                "SELECT b.title, b.authors, b.average_rating\n",
                "FROM BooksDB.dbo.books AS b\n",
                "WHERE b.title LIKE b.original_title\n",
                "ORDER BY b.average_rating;\n",
                "*/"
            ],
            "metadata": {
                "azdata_cell_guid": "2c693b4e-6987-4c49-ba55-61094e677608"
            },
            "outputs": [
                {
                    "output_type": "display_data",
                    "data": {
                        "text/html": "Commands completed successfully."
                    },
                    "metadata": {}
                },
                {
                    "output_type": "display_data",
                    "data": {
                        "text/html": "Total execution time: 00:00:00.051"
                    },
                    "metadata": {}
                }
            ],
            "execution_count": 24
        },
        {
            "cell_type": "code",
            "source": [
                "-- Select books where authors name start with 4 and where avg rting is greater than 4.3, by year published.\n",
                "SELECT b.title, b.authors, b.original_publication_year, b.average_rating\n",
                "FROM (\n",
                "    SELECT *\n",
                "    FROM BooksDB.dbo.books \n",
                "    WHERE authors LIKE 'r%'\n",
                ") AS b\n",
                "WHERE b.average_rating > 4.3\n",
                "ORDER BY b.original_publication_year;"
            ],
            "metadata": {
                "azdata_cell_guid": "9b97f34e-7353-4398-8484-02bab9980bee"
            },
            "outputs": [
                {
                    "output_type": "display_data",
                    "data": {
                        "text/html": "(93 rows affected)"
                    },
                    "metadata": {}
                },
                {
                    "output_type": "display_data",
                    "data": {
                        "text/html": "Total execution time: 00:00:00.129"
                    },
                    "metadata": {}
                },
                {
                    "output_type": "execute_result",
                    "metadata": {},
                    "execution_count": 43,
                    "data": {
                        "application/vnd.dataresource+json": {
                            "schema": {
                                "fields": [
                                    {
                                        "name": "title"
                                    },
                                    {
                                        "name": "authors"
                                    },
                                    {
                                        "name": "original_publication_year"
                                    },
                                    {
                                        "name": "average_rating"
                                    }
                                ]
                            },
                            "data": [
                                {
                                    "0": "Dr. Seuss's Green Eggs and Ham: For Soprano, Boy Soprano, and Orchestra",
                                    "1": "Robert Kapilow, Dr. Seuss",
                                    "2": "NULL",
                                    "3": "4.44"
                                },
                                {
                                    "0": "Letters to a Young Poet",
                                    "1": "Rainer Maria Rilke, Reginald Snell, Franz Xaver Kappus",
                                    "2": "1929",
                                    "3": "4.34"
                                },
                                {
                                    "0": "Tortured for Christ N/E",
                                    "1": "Richard Wurmbrand",
                                    "2": "1940",
                                    "3": "4.34"
                                },
                                {
                                    "0": "The Selected Poetry of Rainer Maria Rilke",
                                    "1": "Rainer Maria Rilke, Stephen Mitchell, Robert Hass",
                                    "2": "1976",
                                    "3": "4.4"
                                },
                                {
                                    "0": "The Paper Bag Princess",
                                    "1": "Robert Munsch, Michael Martchenko",
                                    "2": "1980",
                                    "3": "4.32"
                                },
                                {
                                    "0": "Magician (The Riftwar Saga, #1-2)",
                                    "1": "Raymond E. Feist",
                                    "2": "1982",
                                    "3": "4.32"
                                },
                                {
                                    "0": "The Path to Power (The Years of Lyndon Johnson, #1)",
                                    "1": "Robert A. Caro",
                                    "2": "1982",
                                    "3": "4.42"
                                },
                                {
                                    "0": "The Holiness of God",
                                    "1": "R.C. Sproul",
                                    "2": "1984",
                                    "3": "4.35"
                                },
                                {
                                    "0": "Magician: Apprentice  (Raymond E. Feist's Magician: Apprentice #1)",
                                    "1": "Raymond E. Feist, Michael Avon Oeming, Bryan J.L. Glass, Ryan Stegman",
                                    "2": "1984",
                                    "3": "4.44"
                                },
                                {
                                    "0": "The Further Adventures of Sherlock Holmes: After Sir Arthur Conan Doyle (Classic Crime)",
                                    "1": "Richard Lancelyn Green, Ronald Knox, Julian Symons, Various",
                                    "2": "1985",
                                    "3": "4.4"
                                },
                                {
                                    "0": "Love You Forever",
                                    "1": "Robert Munsch, Sheila McGraw",
                                    "2": "1986",
                                    "3": "4.34"
                                },
                                {
                                    "0": "The Making of the Atomic Bomb",
                                    "1": "Richard Rhodes",
                                    "2": "1986",
                                    "3": "4.32"
                                },
                                {
                                    "0": "And the Band Played On: Politics, People, and the AIDS Epidemic",
                                    "1": "Randy Shilts, William Greider",
                                    "2": "1987",
                                    "3": "4.37"
                                },
                                {
                                    "0": "Where I'm Calling From: New and Selected Stories",
                                    "1": "Raymond Carver",
                                    "2": "1988",
                                    "3": "4.42"
                                },
                                {
                                    "0": "The Wheel of Time: Boxed Set #1 (Wheel of Time, #1-3)",
                                    "1": "Robert Jordan",
                                    "2": "1990",
                                    "3": "4.43"
                                },
                                {
                                    "0": "The Wheel of Time: Boxed Set  (Wheel of Time, #1-8)",
                                    "1": "Robert Jordan",
                                    "2": "1990",
                                    "3": "4.37"
                                },
                                {
                                    "0": "Boy's Life",
                                    "1": "Robert McCammon",
                                    "2": "1991",
                                    "3": "4.32"
                                },
                                {
                                    "0": "The Story of Ruby Bridges",
                                    "1": "Robert Coles, George Ford",
                                    "2": "1995",
                                    "3": "4.41"
                                },
                                {
                                    "0": "A Fine Balance",
                                    "1": "Rohinton Mistry",
                                    "2": "1996",
                                    "3": "4.34"
                                },
                                {
                                    "0": "The Dark Elf Trilogy Collector's Edition (Forgotten Realms: Dark Elf Trilogy, #1-3; Legend of Drizzt, #1-3)",
                                    "1": "R.A. Salvatore",
                                    "2": "1998",
                                    "3": "4.33"
                                },
                                {
                                    "0": "The Great Book of Amber (The Chronicles of Amber, #1-10)",
                                    "1": "Roger Zelazny",
                                    "2": "1999",
                                    "3": "4.31"
                                },
                                {
                                    "0": "Master of the Senate (The Years of Lyndon Johnson, #3)",
                                    "1": "Robert A. Caro",
                                    "2": "2002",
                                    "3": "4.41"
                                },
                                {
                                    "0": "Golden Fool (Tawny Man, #2)",
                                    "1": "Robin Hobb",
                                    "2": "2002",
                                    "3": "4.32"
                                },
                                {
                                    "0": "Fool's Fate (Tawny Man, #3)",
                                    "1": "Robin Hobb",
                                    "2": "2003",
                                    "3": "4.38"
                                },
                                {
                                    "0": "Alice's Adventures in Wonderland: A Pop-Up Adaptation",
                                    "1": "Robert Sabuda, Lewis Carroll",
                                    "2": "2003",
                                    "3": "4.33"
                                },
                                {
                                    "0": "The Walking Dead, Book One (The Walking Dead #1-12)",
                                    "1": "Robert Kirkman, Tony Moore, Charlie Adlard, Cliff Rathburn",
                                    "2": "2004",
                                    "3": "4.36"
                                },
                                {
                                    "0": "The Walking Dead, Vol. 03: Safety Behind Bars",
                                    "1": "Robert Kirkman, Charlie Adlard",
                                    "2": "2005",
                                    "3": "4.31"
                                },
                                {
                                    "0": "Crush",
                                    "1": "Richard Siken",
                                    "2": "2005",
                                    "3": "4.33"
                                },
                                {
                                    "0": "The Walking Dead, Book Two (The Walking Dead #13-24)",
                                    "1": "Robert Kirkman, Charlie Adlard",
                                    "2": "2005",
                                    "3": "4.35"
                                },
                                {
                                    "0": "The Walking Dead, Book Three (The Walking Dead #25-36)",
                                    "1": "Robert Kirkman, Charlie Adlard, Cliff Rathburn, Rus Wooton",
                                    "2": "2007",
                                    "3": "4.43"
                                },
                                {
                                    "0": "India After Gandhi: The History of the World's Largest Democracy",
                                    "1": "Ramachandra Guha",
                                    "2": "2007",
                                    "3": "4.34"
                                },
                                {
                                    "0": "The Walking Dead, Vol. 06: This Sorrowful Life",
                                    "1": "Robert Kirkman, Charlie Adlard, Cliff Rathburn",
                                    "2": "2007",
                                    "3": "4.32"
                                },
                                {
                                    "0": "The Titan's Curse (Percy Jackson and the Olympians, #3)",
                                    "1": "Rick Riordan",
                                    "2": "2007",
                                    "3": "4.33"
                                },
                                {
                                    "0": "The Battle of the Labyrinth (Percy Jackson and the Olympians, #4)",
                                    "1": "Rick Riordan",
                                    "2": "2008",
                                    "3": "4.39"
                                },
                                {
                                    "0": "Shadow Kiss (Vampire Academy, #3)",
                                    "1": "Richelle Mead",
                                    "2": "2008",
                                    "3": "4.37"
                                },
                                {
                                    "0": "Percy Jackson and the Olympians (Percy Jackson and the Olympians, #1-3)",
                                    "1": "Rick Riordan",
                                    "2": "2008",
                                    "3": "4.58"
                                },
                                {
                                    "0": "The Walking Dead, Vol. 08: Made to Suffer",
                                    "1": "Robert Kirkman",
                                    "2": "2008",
                                    "3": "4.47"
                                },
                                {
                                    "0": "Twilight and Philosophy: Vampires, Vegetarians, and the Pursuit of Immortality",
                                    "1": "Rebecca Housel, J. Jeremy Wisnewski, William Irwin",
                                    "2": "2009",
                                    "3": "4.39"
                                },
                                {
                                    "0": "The Morganville Vampires, Volume 1 (The Morganville Vampires, #1-2)",
                                    "1": "Rachel Caine",
                                    "2": "2009",
                                    "3": "4.36"
                                },
                                {
                                    "0": "The Talisman (Volume 1): The Road of Trials",
                                    "1": "Robin Furth, Stephen King, Peter Straub, Tony Shasteen, Nei Ruffino",
                                    "2": "2009",
                                    "3": "4.34"
                                },
                                {
                                    "0": "Vampire Academy Collection (Vampire Academy, #1-3)",
                                    "1": "Richelle Mead",
                                    "2": "2009",
                                    "3": "4.61"
                                },
                                {
                                    "0": "The Stand: Captain Trips",
                                    "1": "Roberto Aguirre-Sacasa, Stephen King, Mike Perkins, Laura       Martin",
                                    "2": "2009",
                                    "3": "4.43"
                                },
                                {
                                    "0": "The Walking Dead, Compendium 1",
                                    "1": "Robert Kirkman",
                                    "2": "2009",
                                    "3": "4.43"
                                },
                                {
                                    "0": "The Last Olympian (Percy Jackson and the Olympians, #5)",
                                    "1": "Rick Riordan",
                                    "2": "2009",
                                    "3": "4.5"
                                },
                                {
                                    "0": "The Gathering Storm (Wheel of Time, #12)",
                                    "1": "Robert Jordan, Brandon Sanderson",
                                    "2": "2009",
                                    "3": "4.34"
                                },
                                {
                                    "0": "Blood Promise (Vampire Academy, #4)",
                                    "1": "Richelle Mead",
                                    "2": "2009",
                                    "3": "4.35"
                                },
                                {
                                    "0": "Percy Jackson and the Olympians Boxed Set (Percy Jackson and the Olympians, #1-5)",
                                    "1": "Rick Riordan, Tk",
                                    "2": "2009",
                                    "3": "4.57"
                                },
                                {
                                    "0": "Tales from a Not-So-Happy Heartbreaker (Dork Diaries, #6)",
                                    "1": "Rachel Renée Russell",
                                    "2": "2010",
                                    "3": "4.42"
                                },
                                {
                                    "0": "The Walking Dead, Vol. 11: Fear the Hunters",
                                    "1": "Robert Kirkman, Charlie Adlard, Cliff Rathburn",
                                    "2": "2010",
                                    "3": "4.33"
                                },
                                {
                                    "0": "Towers of Midnight (Wheel of Time, #13)",
                                    "1": "Robert Jordan, Brandon Sanderson",
                                    "2": "2010",
                                    "3": "4.42"
                                },
                                {
                                    "0": "Spirit Bound (Vampire Academy, #5)",
                                    "1": "Richelle Mead",
                                    "2": "2010",
                                    "3": "4.37"
                                },
                                {
                                    "0": "The Lost Hero (The Heroes of Olympus, #1)",
                                    "1": "Rick Riordan",
                                    "2": "2010",
                                    "3": "4.35"
                                },
                                {
                                    "0": "The Stand: Soul Survivors",
                                    "1": "Roberto Aguirre-Sacasa, Mike Perkins, Laura       Martin, Stephen King",
                                    "2": "2010",
                                    "3": "4.52"
                                },
                                {
                                    "0": "Last Sacrifice (Vampire Academy, #6)",
                                    "1": "Richelle Mead",
                                    "2": "2010",
                                    "3": "4.42"
                                },
                                {
                                    "0": "The Morganville Vampires, Volume 3 (The Morganville Vampires, #5-6)",
                                    "1": "Rachel Caine",
                                    "2": "2010",
                                    "3": "4.39"
                                },
                                {
                                    "0": "The Walking Dead, Vol. 12: Life Among Them",
                                    "1": "Robert Kirkman, Charlie Adlard",
                                    "2": "2010",
                                    "3": "4.34"
                                },
                                {
                                    "0": "الطنطورية",
                                    "1": "Radwa Ashour, رضوى عاشور",
                                    "2": "2010",
                                    "3": "4.32"
                                },
                                {
                                    "0": "Because of Mr. Terupt",
                                    "1": "Rob Buyea",
                                    "2": "2010",
                                    "3": "4.34"
                                },
                                {
                                    "0": "Vampire Academy Box Set (Vampire Academy, #1-4)",
                                    "1": "Richelle Mead",
                                    "2": "2010",
                                    "3": "4.57"
                                },
                                {
                                    "0": "Tales from a Not-So-Talented Pop Star (Dork Diaries, #3)",
                                    "1": "Rachel Renée Russell",
                                    "2": "2011",
                                    "3": "4.31"
                                },
                                {
                                    "0": "The Pioneer Woman Cooks: Food from My Frontier ",
                                    "1": "Ree Drummond",
                                    "2": "2011",
                                    "3": "4.31"
                                },
                                {
                                    "0": "The Farseer Trilogy (Farseer Trilogy #1-3)",
                                    "1": "Robin Hobb",
                                    "2": "2011",
                                    "3": "4.33"
                                },
                                {
                                    "0": "Last Breath (The Morganville Vampires, #11)",
                                    "1": "Rachel Caine",
                                    "2": "2011",
                                    "3": "4.32"
                                },
                                {
                                    "0": "Between Shades of Gray",
                                    "1": "Ruta Sepetys",
                                    "2": "2011",
                                    "3": "4.36"
                                },
                                {
                                    "0": "The Son of Neptune (The Heroes of Olympus, #2)",
                                    "1": "Rick Riordan",
                                    "2": "2011",
                                    "3": "4.44"
                                },
                                {
                                    "0": "If I Die (Soul Screamers, #5)",
                                    "1": "Rachel Vincent",
                                    "2": "2011",
                                    "3": "4.32"
                                },
                                {
                                    "0": "Courageous",
                                    "1": "Randy Alcorn, Alex Kendrick, Stephen Kendrick",
                                    "2": "2011",
                                    "3": "4.53"
                                },
                                {
                                    "0": "The Walking Dead, Vol. 14: No Way Out",
                                    "1": "Robert Kirkman, Charlie Adlard, Cliff Rathburn",
                                    "2": "2011",
                                    "3": "4.34"
                                },
                                {
                                    "0": "The Walking Dead, Compendium 2",
                                    "1": "Robert Kirkman, Charlie Adlard",
                                    "2": "2012",
                                    "3": "4.53"
                                },
                                {
                                    "0": "Wonder",
                                    "1": "R.J. Palacio",
                                    "2": "2012",
                                    "3": "4.43"
                                },
                                {
                                    "0": "The Mark of Athena (The Heroes of Olympus, #3)",
                                    "1": "Rick Riordan",
                                    "2": "2012",
                                    "3": "4.47"
                                },
                                {
                                    "0": "A Memory of Light (Wheel of Time, #14)",
                                    "1": "Robert Jordan, Brandon Sanderson",
                                    "2": "2012",
                                    "3": "4.5"
                                },
                                {
                                    "0": "The Golden Lily (Bloodlines, #2)",
                                    "1": "Richelle Mead",
                                    "2": "2012",
                                    "3": "4.36"
                                },
                                {
                                    "0": "Barely Breathing (Breathing, #2)",
                                    "1": "Rebecca Donovan",
                                    "2": "2012",
                                    "3": "4.33"
                                },
                                {
                                    "0": "Tales from a Not-So-Graceful Ice Princess (Dork Diaries, #4)",
                                    "1": "Rachel Renée Russell",
                                    "2": "2012",
                                    "3": "4.38"
                                },
                                {
                                    "0": "Tales from a Not-So-Smart Miss Know-It-All (Dork Diaries, #5)",
                                    "1": "Rachel Renée Russell",
                                    "2": "2012",
                                    "3": "4.42"
                                },
                                {
                                    "0": "Bad Things (Tristan & Danika, #1)",
                                    "1": "R.K. Lilley",
                                    "2": "2013",
                                    "3": "4.33"
                                },
                                {
                                    "0": "Out of Breath (Breathing, #3)",
                                    "1": "Rebecca Donovan",
                                    "2": "2013",
                                    "3": "4.32"
                                },
                                {
                                    "0": "The Indigo Spell (Bloodlines, #3)",
                                    "1": "Richelle Mead",
                                    "2": "2013",
                                    "3": "4.41"
                                },
                                {
                                    "0": "The Fiery Heart (Bloodlines, #4)",
                                    "1": "Richelle Mead",
                                    "2": "2013",
                                    "3": "4.39"
                                },
                                {
                                    "0": "The House of Hades (The Heroes of Olympus, #4)",
                                    "1": "Rick Riordan",
                                    "2": "2013",
                                    "3": "4.54"
                                },
                                {
                                    "0": "Truce (Neighbor from Hell, #4)",
                                    "1": "R.L. Mathewson",
                                    "2": "2013",
                                    "3": "4.34"
                                },
                                {
                                    "0": "Rock Bottom (Tristan & Danika, #2)",
                                    "1": "R.K. Lilley",
                                    "2": "2013",
                                    "3": "4.46"
                                },
                                {
                                    "0": "The Staff of Serapis (Percy Jackson & Kane Chronicles Crossover #2)",
                                    "1": "Rick Riordan",
                                    "2": "2014",
                                    "3": "4.31"
                                },
                                {
                                    "0": "The Julian Chapter (Wonder Story)",
                                    "1": "R.J. Palacio",
                                    "2": "2014",
                                    "3": "4.31"
                                },
                                {
                                    "0": "The Blood of Olympus (The Heroes of Olympus, #5)",
                                    "1": "Rick Riordan",
                                    "2": "2014",
                                    "3": "4.41"
                                },
                                {
                                    "0": "Silver Shadows (Bloodlines, #5)",
                                    "1": "Richelle Mead",
                                    "2": "2014",
                                    "3": "4.37"
                                },
                                {
                                    "0": "Fool's Assassin (The Fitz and the Fool, #1)",
                                    "1": "Robin Hobb",
                                    "2": "2014",
                                    "3": "4.35"
                                },
                                {
                                    "0": "Percy Jackson's Greek Gods (A Percy Jackson and the Olympians Guide)",
                                    "1": "Rick Riordan, John Rocco",
                                    "2": "2014",
                                    "3": "4.51"
                                },
                                {
                                    "0": "Fool's Quest  (The Fitz and The Fool, #2)",
                                    "1": "Robin Hobb",
                                    "2": "2015",
                                    "3": "4.53"
                                },
                                {
                                    "0": "The Hammer of Thor (Magnus Chase and the Gods of Asgard, #2)",
                                    "1": "Rick Riordan",
                                    "2": "2016",
                                    "3": "4.37"
                                },
                                {
                                    "0": "The Hidden Oracle (The Trials of Apollo, #1)",
                                    "1": "Rick Riordan",
                                    "2": "2016",
                                    "3": "4.33"
                                },
                                {
                                    "0": "Salt to the Sea",
                                    "1": "Ruta Sepetys",
                                    "2": "2016",
                                    "3": "4.36"
                                }
                            ]
                        },
                        "text/html": [
                            "<table>",
                            "<tr><th>title</th><th>authors</th><th>original_publication_year</th><th>average_rating</th></tr>",
                            "<tr><td>Dr. Seuss's Green Eggs and Ham: For Soprano, Boy Soprano, and Orchestra</td><td>Robert Kapilow, Dr. Seuss</td><td>NULL</td><td>4.44</td></tr>",
                            "<tr><td>Letters to a Young Poet</td><td>Rainer Maria Rilke, Reginald Snell, Franz Xaver Kappus</td><td>1929</td><td>4.34</td></tr>",
                            "<tr><td>Tortured for Christ N/E</td><td>Richard Wurmbrand</td><td>1940</td><td>4.34</td></tr>",
                            "<tr><td>The Selected Poetry of Rainer Maria Rilke</td><td>Rainer Maria Rilke, Stephen Mitchell, Robert Hass</td><td>1976</td><td>4.4</td></tr>",
                            "<tr><td>The Paper Bag Princess</td><td>Robert Munsch, Michael Martchenko</td><td>1980</td><td>4.32</td></tr>",
                            "<tr><td>Magician (The Riftwar Saga, #1-2)</td><td>Raymond E. Feist</td><td>1982</td><td>4.32</td></tr>",
                            "<tr><td>The Path to Power (The Years of Lyndon Johnson, #1)</td><td>Robert A. Caro</td><td>1982</td><td>4.42</td></tr>",
                            "<tr><td>The Holiness of God</td><td>R.C. Sproul</td><td>1984</td><td>4.35</td></tr>",
                            "<tr><td>Magician: Apprentice  (Raymond E. Feist's Magician: Apprentice #1)</td><td>Raymond E. Feist, Michael Avon Oeming, Bryan J.L. Glass, Ryan Stegman</td><td>1984</td><td>4.44</td></tr>",
                            "<tr><td>The Further Adventures of Sherlock Holmes: After Sir Arthur Conan Doyle (Classic Crime)</td><td>Richard Lancelyn Green, Ronald Knox, Julian Symons, Various</td><td>1985</td><td>4.4</td></tr>",
                            "<tr><td>Love You Forever</td><td>Robert Munsch, Sheila McGraw</td><td>1986</td><td>4.34</td></tr>",
                            "<tr><td>The Making of the Atomic Bomb</td><td>Richard Rhodes</td><td>1986</td><td>4.32</td></tr>",
                            "<tr><td>And the Band Played On: Politics, People, and the AIDS Epidemic</td><td>Randy Shilts, William Greider</td><td>1987</td><td>4.37</td></tr>",
                            "<tr><td>Where I'm Calling From: New and Selected Stories</td><td>Raymond Carver</td><td>1988</td><td>4.42</td></tr>",
                            "<tr><td>The Wheel of Time: Boxed Set #1 (Wheel of Time, #1-3)</td><td>Robert Jordan</td><td>1990</td><td>4.43</td></tr>",
                            "<tr><td>The Wheel of Time: Boxed Set  (Wheel of Time, #1-8)</td><td>Robert Jordan</td><td>1990</td><td>4.37</td></tr>",
                            "<tr><td>Boy's Life</td><td>Robert McCammon</td><td>1991</td><td>4.32</td></tr>",
                            "<tr><td>The Story of Ruby Bridges</td><td>Robert Coles, George Ford</td><td>1995</td><td>4.41</td></tr>",
                            "<tr><td>A Fine Balance</td><td>Rohinton Mistry</td><td>1996</td><td>4.34</td></tr>",
                            "<tr><td>The Dark Elf Trilogy Collector's Edition (Forgotten Realms: Dark Elf Trilogy, #1-3; Legend of Drizzt, #1-3)</td><td>R.A. Salvatore</td><td>1998</td><td>4.33</td></tr>",
                            "<tr><td>The Great Book of Amber (The Chronicles of Amber, #1-10)</td><td>Roger Zelazny</td><td>1999</td><td>4.31</td></tr>",
                            "<tr><td>Master of the Senate (The Years of Lyndon Johnson, #3)</td><td>Robert A. Caro</td><td>2002</td><td>4.41</td></tr>",
                            "<tr><td>Golden Fool (Tawny Man, #2)</td><td>Robin Hobb</td><td>2002</td><td>4.32</td></tr>",
                            "<tr><td>Fool's Fate (Tawny Man, #3)</td><td>Robin Hobb</td><td>2003</td><td>4.38</td></tr>",
                            "<tr><td>Alice's Adventures in Wonderland: A Pop-Up Adaptation</td><td>Robert Sabuda, Lewis Carroll</td><td>2003</td><td>4.33</td></tr>",
                            "<tr><td>The Walking Dead, Book One (The Walking Dead #1-12)</td><td>Robert Kirkman, Tony Moore, Charlie Adlard, Cliff Rathburn</td><td>2004</td><td>4.36</td></tr>",
                            "<tr><td>The Walking Dead, Vol. 03: Safety Behind Bars</td><td>Robert Kirkman, Charlie Adlard</td><td>2005</td><td>4.31</td></tr>",
                            "<tr><td>Crush</td><td>Richard Siken</td><td>2005</td><td>4.33</td></tr>",
                            "<tr><td>The Walking Dead, Book Two (The Walking Dead #13-24)</td><td>Robert Kirkman, Charlie Adlard</td><td>2005</td><td>4.35</td></tr>",
                            "<tr><td>The Walking Dead, Book Three (The Walking Dead #25-36)</td><td>Robert Kirkman, Charlie Adlard, Cliff Rathburn, Rus Wooton</td><td>2007</td><td>4.43</td></tr>",
                            "<tr><td>India After Gandhi: The History of the World's Largest Democracy</td><td>Ramachandra Guha</td><td>2007</td><td>4.34</td></tr>",
                            "<tr><td>The Walking Dead, Vol. 06: This Sorrowful Life</td><td>Robert Kirkman, Charlie Adlard, Cliff Rathburn</td><td>2007</td><td>4.32</td></tr>",
                            "<tr><td>The Titan's Curse (Percy Jackson and the Olympians, #3)</td><td>Rick Riordan</td><td>2007</td><td>4.33</td></tr>",
                            "<tr><td>The Battle of the Labyrinth (Percy Jackson and the Olympians, #4)</td><td>Rick Riordan</td><td>2008</td><td>4.39</td></tr>",
                            "<tr><td>Shadow Kiss (Vampire Academy, #3)</td><td>Richelle Mead</td><td>2008</td><td>4.37</td></tr>",
                            "<tr><td>Percy Jackson and the Olympians (Percy Jackson and the Olympians, #1-3)</td><td>Rick Riordan</td><td>2008</td><td>4.58</td></tr>",
                            "<tr><td>The Walking Dead, Vol. 08: Made to Suffer</td><td>Robert Kirkman</td><td>2008</td><td>4.47</td></tr>",
                            "<tr><td>Twilight and Philosophy: Vampires, Vegetarians, and the Pursuit of Immortality</td><td>Rebecca Housel, J. Jeremy Wisnewski, William Irwin</td><td>2009</td><td>4.39</td></tr>",
                            "<tr><td>The Morganville Vampires, Volume 1 (The Morganville Vampires, #1-2)</td><td>Rachel Caine</td><td>2009</td><td>4.36</td></tr>",
                            "<tr><td>The Talisman (Volume 1): The Road of Trials</td><td>Robin Furth, Stephen King, Peter Straub, Tony Shasteen, Nei Ruffino</td><td>2009</td><td>4.34</td></tr>",
                            "<tr><td>Vampire Academy Collection (Vampire Academy, #1-3)</td><td>Richelle Mead</td><td>2009</td><td>4.61</td></tr>",
                            "<tr><td>The Stand: Captain Trips</td><td>Roberto Aguirre-Sacasa, Stephen King, Mike Perkins, Laura       Martin</td><td>2009</td><td>4.43</td></tr>",
                            "<tr><td>The Walking Dead, Compendium 1</td><td>Robert Kirkman</td><td>2009</td><td>4.43</td></tr>",
                            "<tr><td>The Last Olympian (Percy Jackson and the Olympians, #5)</td><td>Rick Riordan</td><td>2009</td><td>4.5</td></tr>",
                            "<tr><td>The Gathering Storm (Wheel of Time, #12)</td><td>Robert Jordan, Brandon Sanderson</td><td>2009</td><td>4.34</td></tr>",
                            "<tr><td>Blood Promise (Vampire Academy, #4)</td><td>Richelle Mead</td><td>2009</td><td>4.35</td></tr>",
                            "<tr><td>Percy Jackson and the Olympians Boxed Set (Percy Jackson and the Olympians, #1-5)</td><td>Rick Riordan, Tk</td><td>2009</td><td>4.57</td></tr>",
                            "<tr><td>Tales from a Not-So-Happy Heartbreaker (Dork Diaries, #6)</td><td>Rachel Renée Russell</td><td>2010</td><td>4.42</td></tr>",
                            "<tr><td>The Walking Dead, Vol. 11: Fear the Hunters</td><td>Robert Kirkman, Charlie Adlard, Cliff Rathburn</td><td>2010</td><td>4.33</td></tr>",
                            "<tr><td>Towers of Midnight (Wheel of Time, #13)</td><td>Robert Jordan, Brandon Sanderson</td><td>2010</td><td>4.42</td></tr>",
                            "<tr><td>Spirit Bound (Vampire Academy, #5)</td><td>Richelle Mead</td><td>2010</td><td>4.37</td></tr>",
                            "<tr><td>The Lost Hero (The Heroes of Olympus, #1)</td><td>Rick Riordan</td><td>2010</td><td>4.35</td></tr>",
                            "<tr><td>The Stand: Soul Survivors</td><td>Roberto Aguirre-Sacasa, Mike Perkins, Laura       Martin, Stephen King</td><td>2010</td><td>4.52</td></tr>",
                            "<tr><td>Last Sacrifice (Vampire Academy, #6)</td><td>Richelle Mead</td><td>2010</td><td>4.42</td></tr>",
                            "<tr><td>The Morganville Vampires, Volume 3 (The Morganville Vampires, #5-6)</td><td>Rachel Caine</td><td>2010</td><td>4.39</td></tr>",
                            "<tr><td>The Walking Dead, Vol. 12: Life Among Them</td><td>Robert Kirkman, Charlie Adlard</td><td>2010</td><td>4.34</td></tr>",
                            "<tr><td>الطنطورية</td><td>Radwa Ashour, رضوى عاشور</td><td>2010</td><td>4.32</td></tr>",
                            "<tr><td>Because of Mr. Terupt</td><td>Rob Buyea</td><td>2010</td><td>4.34</td></tr>",
                            "<tr><td>Vampire Academy Box Set (Vampire Academy, #1-4)</td><td>Richelle Mead</td><td>2010</td><td>4.57</td></tr>",
                            "<tr><td>Tales from a Not-So-Talented Pop Star (Dork Diaries, #3)</td><td>Rachel Renée Russell</td><td>2011</td><td>4.31</td></tr>",
                            "<tr><td>The Pioneer Woman Cooks: Food from My Frontier </td><td>Ree Drummond</td><td>2011</td><td>4.31</td></tr>",
                            "<tr><td>The Farseer Trilogy (Farseer Trilogy #1-3)</td><td>Robin Hobb</td><td>2011</td><td>4.33</td></tr>",
                            "<tr><td>Last Breath (The Morganville Vampires, #11)</td><td>Rachel Caine</td><td>2011</td><td>4.32</td></tr>",
                            "<tr><td>Between Shades of Gray</td><td>Ruta Sepetys</td><td>2011</td><td>4.36</td></tr>",
                            "<tr><td>The Son of Neptune (The Heroes of Olympus, #2)</td><td>Rick Riordan</td><td>2011</td><td>4.44</td></tr>",
                            "<tr><td>If I Die (Soul Screamers, #5)</td><td>Rachel Vincent</td><td>2011</td><td>4.32</td></tr>",
                            "<tr><td>Courageous</td><td>Randy Alcorn, Alex Kendrick, Stephen Kendrick</td><td>2011</td><td>4.53</td></tr>",
                            "<tr><td>The Walking Dead, Vol. 14: No Way Out</td><td>Robert Kirkman, Charlie Adlard, Cliff Rathburn</td><td>2011</td><td>4.34</td></tr>",
                            "<tr><td>The Walking Dead, Compendium 2</td><td>Robert Kirkman, Charlie Adlard</td><td>2012</td><td>4.53</td></tr>",
                            "<tr><td>Wonder</td><td>R.J. Palacio</td><td>2012</td><td>4.43</td></tr>",
                            "<tr><td>The Mark of Athena (The Heroes of Olympus, #3)</td><td>Rick Riordan</td><td>2012</td><td>4.47</td></tr>",
                            "<tr><td>A Memory of Light (Wheel of Time, #14)</td><td>Robert Jordan, Brandon Sanderson</td><td>2012</td><td>4.5</td></tr>",
                            "<tr><td>The Golden Lily (Bloodlines, #2)</td><td>Richelle Mead</td><td>2012</td><td>4.36</td></tr>",
                            "<tr><td>Barely Breathing (Breathing, #2)</td><td>Rebecca Donovan</td><td>2012</td><td>4.33</td></tr>",
                            "<tr><td>Tales from a Not-So-Graceful Ice Princess (Dork Diaries, #4)</td><td>Rachel Renée Russell</td><td>2012</td><td>4.38</td></tr>",
                            "<tr><td>Tales from a Not-So-Smart Miss Know-It-All (Dork Diaries, #5)</td><td>Rachel Renée Russell</td><td>2012</td><td>4.42</td></tr>",
                            "<tr><td>Bad Things (Tristan &amp; Danika, #1)</td><td>R.K. Lilley</td><td>2013</td><td>4.33</td></tr>",
                            "<tr><td>Out of Breath (Breathing, #3)</td><td>Rebecca Donovan</td><td>2013</td><td>4.32</td></tr>",
                            "<tr><td>The Indigo Spell (Bloodlines, #3)</td><td>Richelle Mead</td><td>2013</td><td>4.41</td></tr>",
                            "<tr><td>The Fiery Heart (Bloodlines, #4)</td><td>Richelle Mead</td><td>2013</td><td>4.39</td></tr>",
                            "<tr><td>The House of Hades (The Heroes of Olympus, #4)</td><td>Rick Riordan</td><td>2013</td><td>4.54</td></tr>",
                            "<tr><td>Truce (Neighbor from Hell, #4)</td><td>R.L. Mathewson</td><td>2013</td><td>4.34</td></tr>",
                            "<tr><td>Rock Bottom (Tristan &amp; Danika, #2)</td><td>R.K. Lilley</td><td>2013</td><td>4.46</td></tr>",
                            "<tr><td>The Staff of Serapis (Percy Jackson &amp; Kane Chronicles Crossover #2)</td><td>Rick Riordan</td><td>2014</td><td>4.31</td></tr>",
                            "<tr><td>The Julian Chapter (Wonder Story)</td><td>R.J. Palacio</td><td>2014</td><td>4.31</td></tr>",
                            "<tr><td>The Blood of Olympus (The Heroes of Olympus, #5)</td><td>Rick Riordan</td><td>2014</td><td>4.41</td></tr>",
                            "<tr><td>Silver Shadows (Bloodlines, #5)</td><td>Richelle Mead</td><td>2014</td><td>4.37</td></tr>",
                            "<tr><td>Fool's Assassin (The Fitz and the Fool, #1)</td><td>Robin Hobb</td><td>2014</td><td>4.35</td></tr>",
                            "<tr><td>Percy Jackson's Greek Gods (A Percy Jackson and the Olympians Guide)</td><td>Rick Riordan, John Rocco</td><td>2014</td><td>4.51</td></tr>",
                            "<tr><td>Fool's Quest  (The Fitz and The Fool, #2)</td><td>Robin Hobb</td><td>2015</td><td>4.53</td></tr>",
                            "<tr><td>The Hammer of Thor (Magnus Chase and the Gods of Asgard, #2)</td><td>Rick Riordan</td><td>2016</td><td>4.37</td></tr>",
                            "<tr><td>The Hidden Oracle (The Trials of Apollo, #1)</td><td>Rick Riordan</td><td>2016</td><td>4.33</td></tr>",
                            "<tr><td>Salt to the Sea</td><td>Ruta Sepetys</td><td>2016</td><td>4.36</td></tr>",
                            "</table>"
                        ]
                    }
                }
            ],
            "execution_count": 43
        },
        {
            "cell_type": "code",
            "source": [
                "-- A customer is looking for a list of books about meditation (use tag_name) and that on average have a 4.0 or higher rating (average_rating)\n",
                "-- use subqueries to connect the books table to the tags table.\n",
                "\n",
                "-- books --> book_tags --> tags \n",
                "\n",
                "-- ANS:\n",
                "-- 35 rows\n",
                "\n",
                "SELECT b.title\n",
                "FROM BooksDB.dbo.books AS b\n",
                "WHERE b.book_id IN\n",
                "    (SELECT bt.goodreads_book_id\n",
                "    FROM BooksDB.dbo.book_tags as bt\n",
                "    WHERE bt.tag_id IN\n",
                "        (SELECT t.tag_id\n",
                "        FROM BooksDB.dbo.tags AS t\n",
                "        WHERE t.tag_name LIKE '%meditation%'))\n",
                "        AND b.average_rating >= 4;"
            ],
            "metadata": {
                "azdata_cell_guid": "552924f9-a1cc-4979-8f53-15ba959550c2",
                "tags": []
            },
            "outputs": [
                {
                    "output_type": "display_data",
                    "data": {
                        "text/html": "(35 rows affected)"
                    },
                    "metadata": {}
                },
                {
                    "output_type": "display_data",
                    "data": {
                        "text/html": "Total execution time: 00:00:00.206"
                    },
                    "metadata": {}
                },
                {
                    "output_type": "execute_result",
                    "metadata": {},
                    "execution_count": 54,
                    "data": {
                        "application/vnd.dataresource+json": {
                            "schema": {
                                "fields": [
                                    {
                                        "name": "title"
                                    }
                                ]
                            },
                            "data": [
                                {
                                    "0": "A New Earth: Awakening to Your Life's Purpose"
                                },
                                {
                                    "0": "The Power of Now: A Guide to Spiritual Enlightenment"
                                },
                                {
                                    "0": "The Four Agreements: A Practical Guide to Personal Freedom"
                                },
                                {
                                    "0": "Tao Te Ching"
                                },
                                {
                                    "0": "The Art of Happiness"
                                },
                                {
                                    "0": "Meditations"
                                },
                                {
                                    "0": "The Power of a Praying Wife"
                                },
                                {
                                    "0": "Way of the Peaceful Warrior: A Book That Changes Lives"
                                },
                                {
                                    "0": "Practicing the Power of Now: Essential Teachings, Meditations, and Exercises from the Power of Now"
                                },
                                {
                                    "0": "Autobiography of a Yogi"
                                },
                                {
                                    "0": "The Essential Rumi"
                                },
                                {
                                    "0": "Zen Mind, Beginner's Mind: Informal Talks on Zen Meditation and Practice"
                                },
                                {
                                    "0": "A Course in Miracles"
                                },
                                {
                                    "0": "The Power of Intention: Learning to Co-create Your World Your Way"
                                },
                                {
                                    "0": "The Practice of the Presence of God"
                                },
                                {
                                    "0": "Wherever You Go, There You Are: Mindfulness Meditation in Everyday Life"
                                },
                                {
                                    "0": "When Things Fall Apart: Heart Advice for Difficult Times"
                                },
                                {
                                    "0": "Be Here Now"
                                },
                                {
                                    "0": "Peace Is Every Step: The Path of Mindfulness in Everyday Life"
                                },
                                {
                                    "0": "Creative Visualization: Use the Power of Your Imagination to Create What You Want in Your Life"
                                },
                                {
                                    "0": "The Tibetan Book of Living and Dying"
                                },
                                {
                                    "0": "The Dhammapada"
                                },
                                {
                                    "0": "The Untethered Soul: The Journey Beyond Yourself"
                                },
                                {
                                    "0": "The I Ching or Book of Changes"
                                },
                                {
                                    "0": "The Happiness Hypothesis: Finding Modern Truth in Ancient Wisdom"
                                },
                                {
                                    "0": "Loving What Is: Four Questions That Can Change Your Life"
                                },
                                {
                                    "0": "The Imitation of Christ"
                                },
                                {
                                    "0": "The Miracle of Mindfulness: An Introduction to the Practice of Meditation"
                                },
                                {
                                    "0": "Change Your Thoughts - Change Your Life: Living the Wisdom of the Tao"
                                },
                                {
                                    "0": "The Way of Zen"
                                },
                                {
                                    "0": "Living Buddha, Living Christ"
                                },
                                {
                                    "0": "Awakening the Buddha Within: Tibetan Wisdom for the Western World"
                                },
                                {
                                    "0": "The Book on the Taboo Against Knowing Who You Are"
                                },
                                {
                                    "0": "The Upanishads: Translations from the Sanskrit"
                                },
                                {
                                    "0": "The Places That Scare You: A Guide to Fearlessness in Difficult Times"
                                }
                            ]
                        },
                        "text/html": [
                            "<table>",
                            "<tr><th>title</th></tr>",
                            "<tr><td>A New Earth: Awakening to Your Life's Purpose</td></tr>",
                            "<tr><td>The Power of Now: A Guide to Spiritual Enlightenment</td></tr>",
                            "<tr><td>The Four Agreements: A Practical Guide to Personal Freedom</td></tr>",
                            "<tr><td>Tao Te Ching</td></tr>",
                            "<tr><td>The Art of Happiness</td></tr>",
                            "<tr><td>Meditations</td></tr>",
                            "<tr><td>The Power of a Praying Wife</td></tr>",
                            "<tr><td>Way of the Peaceful Warrior: A Book That Changes Lives</td></tr>",
                            "<tr><td>Practicing the Power of Now: Essential Teachings, Meditations, and Exercises from the Power of Now</td></tr>",
                            "<tr><td>Autobiography of a Yogi</td></tr>",
                            "<tr><td>The Essential Rumi</td></tr>",
                            "<tr><td>Zen Mind, Beginner's Mind: Informal Talks on Zen Meditation and Practice</td></tr>",
                            "<tr><td>A Course in Miracles</td></tr>",
                            "<tr><td>The Power of Intention: Learning to Co-create Your World Your Way</td></tr>",
                            "<tr><td>The Practice of the Presence of God</td></tr>",
                            "<tr><td>Wherever You Go, There You Are: Mindfulness Meditation in Everyday Life</td></tr>",
                            "<tr><td>When Things Fall Apart: Heart Advice for Difficult Times</td></tr>",
                            "<tr><td>Be Here Now</td></tr>",
                            "<tr><td>Peace Is Every Step: The Path of Mindfulness in Everyday Life</td></tr>",
                            "<tr><td>Creative Visualization: Use the Power of Your Imagination to Create What You Want in Your Life</td></tr>",
                            "<tr><td>The Tibetan Book of Living and Dying</td></tr>",
                            "<tr><td>The Dhammapada</td></tr>",
                            "<tr><td>The Untethered Soul: The Journey Beyond Yourself</td></tr>",
                            "<tr><td>The I Ching or Book of Changes</td></tr>",
                            "<tr><td>The Happiness Hypothesis: Finding Modern Truth in Ancient Wisdom</td></tr>",
                            "<tr><td>Loving What Is: Four Questions That Can Change Your Life</td></tr>",
                            "<tr><td>The Imitation of Christ</td></tr>",
                            "<tr><td>The Miracle of Mindfulness: An Introduction to the Practice of Meditation</td></tr>",
                            "<tr><td>Change Your Thoughts - Change Your Life: Living the Wisdom of the Tao</td></tr>",
                            "<tr><td>The Way of Zen</td></tr>",
                            "<tr><td>Living Buddha, Living Christ</td></tr>",
                            "<tr><td>Awakening the Buddha Within: Tibetan Wisdom for the Western World</td></tr>",
                            "<tr><td>The Book on the Taboo Against Knowing Who You Are</td></tr>",
                            "<tr><td>The Upanishads: Translations from the Sanskrit</td></tr>",
                            "<tr><td>The Places That Scare You: A Guide to Fearlessness in Difficult Times</td></tr>",
                            "</table>"
                        ]
                    }
                }
            ],
            "execution_count": 54
        }
    ]
}